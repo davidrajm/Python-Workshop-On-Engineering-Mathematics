{
 "cells": [
  {
   "cell_type": "markdown",
   "id": "55a8544e",
   "metadata": {},
   "source": [
    "# Python Workshop on Engineering Mathematics\n",
    "\n",
    "__Vellore Institue of Technology, Chennai:__\n",
    "\n",
    "Dr. David Raj Micheal, Assistant Professor, VIT, Chennai"
   ]
  },
  {
   "cell_type": "markdown",
   "id": "970d2dcf",
   "metadata": {},
   "source": [
    "## Setup Instructions\n",
    "\n",
    "- If you don't already have Anaconda installed, download and install Anaconda for Python 3 (not Python 2): https://www.anaconda.com/products/individual.\n",
    "- If you're prompted to install VS Code we recommend you do install it unless you already have a code editor you prefer.\n",
    "- If VS Code is not installed, please visit https://code.visualstudio.com/ and install VS Code.\n",
    "- For different OS, you may check your installation using the following link: https://docs.anaconda.com/anaconda/user-guide/getting-started/#open-prompt-lin\n",
    "- Basically, we would open a terminal and type `conda --version` and you get the version. If yes, you are good to go."
   ]
  },
  {
   "cell_type": "markdown",
   "id": "d7b783a0",
   "metadata": {},
   "source": [
    "## Installing Streamlit\n",
    "\n",
    "- Run `pip install streamlit`\n",
    "- To check that it worked fine, type `streamlit hello`\n",
    "- If it prompts like the following (as it did in my mac), please hit `install`\n",
    "\n",
    "<img src=\"img/developer-tools.png\" width=\"400\" />\n",
    "- If you'd like to do your own setup, we'll be using the following Python libraries:\n",
    "    - jupyterlab\n",
    "    - numpy\n",
    "    - pandas\n",
    "    - matplotlib\n",
    "    - scipy\n",
    "    - sympy"
   ]
  },
  {
   "cell_type": "markdown",
   "id": "71c53357",
   "metadata": {},
   "source": [
    "## Other option to follow the workshop\n",
    "\n",
    "For some reasons, if you are unable to install `anaconda`, its okay. You can do all the works that what we do (except the webapp part) in the `Google Colab` at https://colab.research.google.com/\n",
    "\n",
    "<img src=\"img/colab.png\" width=\"400\" />\n"
   ]
  },
  {
   "cell_type": "code",
   "execution_count": null,
   "id": "6419d1fc",
   "metadata": {},
   "outputs": [],
   "source": []
  }
 ],
 "metadata": {
  "kernelspec": {
   "display_name": "Python 3",
   "language": "python",
   "name": "python3"
  },
  "language_info": {
   "codemirror_mode": {
    "name": "ipython",
    "version": 3
   },
   "file_extension": ".py",
   "mimetype": "text/x-python",
   "name": "python",
   "nbconvert_exporter": "python",
   "pygments_lexer": "ipython3",
   "version": "3.7.3"
  }
 },
 "nbformat": 4,
 "nbformat_minor": 5
}
