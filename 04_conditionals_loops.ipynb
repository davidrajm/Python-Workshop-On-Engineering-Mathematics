{
 "cells": [
  {
   "cell_type": "markdown",
   "id": "8c1ad2c5",
   "metadata": {},
   "source": [
    "## Conditionals & Loops"
   ]
  },
  {
   "cell_type": "markdown",
   "id": "d4bf8941-1809-41fe-993a-de83510b245c",
   "metadata": {},
   "source": [
    "## What we do?\n",
    "- if statement\n",
    "- for loop\n",
    "- while loop\n",
    "- break\n",
    "- continue\n",
    "- pass"
   ]
  },
  {
   "cell_type": "markdown",
   "id": "16cb0a93-0f1e-41d6-a1d9-06cdbd06e08e",
   "metadata": {},
   "source": [
    "### <font color=red> if </font> \n",
    "<code>\n",
    "if condition: \n",
    "    do you stuff...\n",
    " </code>"
   ]
  },
  {
   "cell_type": "markdown",
   "id": "42ce6145-7834-4d2e-94e7-cd06b2cf352f",
   "metadata": {
    "slideshow": {
     "slide_type": "subslide"
    }
   },
   "source": [
    "###  <font color=blue> Example </font>\n",
    "Calculate the square of a number if it greater than 5"
   ]
  },
  {
   "cell_type": "code",
   "execution_count": 57,
   "id": "80c9d5c6-e624-4a49-a8bb-ae2e53640f93",
   "metadata": {
    "slideshow": {
     "slide_type": "subslide"
    }
   },
   "outputs": [
    {
     "name": "stdout",
     "output_type": "stream",
     "text": [
      "36\n"
     ]
    }
   ],
   "source": [
    "number = 6\n",
    "if number > 5:\n",
    "    # Calculate square\n",
    "    print(number * number)"
   ]
  },
  {
   "cell_type": "markdown",
   "id": "548ffa86-9a10-4002-85db-15850ff55cc0",
   "metadata": {
    "slideshow": {
     "slide_type": "slide"
    }
   },
   "source": [
    "### <font color=red> if - else </font> \n",
    "<code>\n",
    "if condition:\n",
    "    your stuff for true\n",
    "else:\n",
    "    your stuff for false\n",
    " </code>"
   ]
  },
  {
   "cell_type": "code",
   "execution_count": 6,
   "id": "71d76fbe-7f24-4d2a-9cd1-d8fdfd65e6b0",
   "metadata": {},
   "outputs": [
    {
     "name": "stdin",
     "output_type": "stream",
     "text": [
      "Enter your guess: 4\n"
     ]
    },
    {
     "name": "stdout",
     "output_type": "stream",
     "text": [
      "You have guessed it lesser\n"
     ]
    }
   ],
   "source": [
    "import random\n",
    "number = random.randint(0,10)\n",
    "guess = int(input(\"Enter your guess:\"))\n",
    "\n",
    "if guess > number:\n",
    "    print(\"You have guessed it greater\")\n",
    "else:\n",
    "    print(\"You have guessed it lesser\")"
   ]
  },
  {
   "cell_type": "markdown",
   "id": "36bb3d7f-f2e8-4208-b777-b3f60a4a4b75",
   "metadata": {
    "slideshow": {
     "slide_type": "slide"
    }
   },
   "source": [
    "## <font color=red> if-elif-else </font> \n",
    "\n",
    "<code>\n",
    "if condition-1:  \n",
    "     You stuff if condition-1 is true\n",
    "elif condition-2:\n",
    "     You stuff if condition-1 is true\n",
    "elif condition-3:\n",
    "     You stuff if condition-1 is true\n",
    "     ...         \n",
    "else:            \n",
    "     You stuff if none of the condition-1,2,... is true   \n",
    " </code>"
   ]
  },
  {
   "cell_type": "code",
   "execution_count": 14,
   "id": "5c56b0b0-c01b-4443-9446-c6eaadc12612",
   "metadata": {},
   "outputs": [
    {
     "name": "stdin",
     "output_type": "stream",
     "text": [
      "Enter your guess: 2\n"
     ]
    },
    {
     "name": "stdout",
     "output_type": "stream",
     "text": [
      "You have guessed it lesser\n"
     ]
    }
   ],
   "source": [
    "import random\n",
    "number = random.randint(0,10)\n",
    "\n",
    "guess = int(input(\"Enter your guess:\"))\n",
    "\n",
    "if guess > number:\n",
    "    print(\"You have guessed it greater\")\n",
    "elif guess < number:\n",
    "    print(\"You have guessed it lesser\")\n",
    "else:\n",
    "    print(\"You have guessed it correct\")"
   ]
  },
  {
   "cell_type": "markdown",
   "id": "59db2586-958a-4f99-a0ff-180a91848ed9",
   "metadata": {
    "slideshow": {
     "slide_type": "slide"
    }
   },
   "source": [
    "## <font color=red> nested-if-else </font> \n",
    "\n",
    "<code>\n",
    "if conditon_outer:\n",
    "    if condition_inner:\n",
    "        Your stuff for inner if is true\n",
    "    else:\n",
    "        Your stuff for inner else\n",
    "    \n",
    "    statement ot outer if\n",
    "else:\n",
    "    Outer else stuff\n",
    " </code>"
   ]
  },
  {
   "cell_type": "code",
   "execution_count": 15,
   "id": "4ded01b2-8e9c-4a6d-9f0f-f9f7a663e566",
   "metadata": {},
   "outputs": [
    {
     "name": "stdin",
     "output_type": "stream",
     "text": [
      "Enter your guess: 5\n"
     ]
    },
    {
     "name": "stdout",
     "output_type": "stream",
     "text": [
      "You have guessed it lesser\n"
     ]
    }
   ],
   "source": [
    "import random\n",
    "number = random.randint(0,10)\n",
    "\n",
    "guess = int(input(\"Enter your guess:\"))\n",
    "\n",
    "if guess >= number:\n",
    "    if guess > number:\n",
    "        print(\"You have guessed it greater!\")\n",
    "    else:\n",
    "        print(\"Oh Yeah! You are right\")\n",
    "else:\n",
    "    print(\"You have guessed it lesser\")"
   ]
  },
  {
   "cell_type": "markdown",
   "id": "cfb072ef-2a0d-4545-96bf-04ef97598438",
   "metadata": {
    "slideshow": {
     "slide_type": "slide"
    }
   },
   "source": [
    "## <font color=red> for loop </font> \n",
    "### <font color=blue> syntax </font>\n",
    "<code>\n",
    "for element in sequence:\n",
    "     body of for loop \n",
    "</code>\n",
    "\n",
    "The sequence can be string, list, dictionary, set, or tuple."
   ]
  },
  {
   "cell_type": "markdown",
   "id": "7dcd356e-ea44-4528-adc8-c8292fcc21d8",
   "metadata": {
    "slideshow": {
     "slide_type": "subslide"
    }
   },
   "source": [
    "###  <font color=blue> Example </font>\n",
    "Display squares of first ten numbers using for loop"
   ]
  },
  {
   "cell_type": "code",
   "execution_count": 16,
   "id": "05774af8-fac5-4c6c-b60b-366492d0dc7f",
   "metadata": {
    "slideshow": {
     "slide_type": "subslide"
    }
   },
   "outputs": [
    {
     "name": "stdout",
     "output_type": "stream",
     "text": [
      "1\n",
      "4\n",
      "9\n",
      "16\n",
      "25\n",
      "36\n",
      "49\n",
      "64\n",
      "81\n",
      "100\n"
     ]
    }
   ],
   "source": [
    "for i in range(1, 11):\n",
    "    print(i**2)"
   ]
  },
  {
   "cell_type": "code",
   "execution_count": 17,
   "id": "2374ed7d-67ea-4c86-88f1-eb3087c35838",
   "metadata": {},
   "outputs": [
    {
     "data": {
      "text/plain": [
       "[1, 4, 9, 16, 25, 36, 49, 64, 81, 100]"
      ]
     },
     "execution_count": 17,
     "metadata": {},
     "output_type": "execute_result"
    }
   ],
   "source": [
    "[i**2 for i in range(1,11)]"
   ]
  },
  {
   "cell_type": "markdown",
   "id": "8c575f06-fd86-4391-98c3-cd0da7357d74",
   "metadata": {},
   "source": [
    "## How to sum this up?"
   ]
  },
  {
   "cell_type": "code",
   "execution_count": null,
   "id": "6d03bbde-d9d6-42ae-802b-a46784f5c423",
   "metadata": {},
   "outputs": [],
   "source": []
  },
  {
   "cell_type": "code",
   "execution_count": null,
   "id": "a2fc435c-6d65-4612-9754-38a0d95c3689",
   "metadata": {},
   "outputs": [],
   "source": []
  },
  {
   "cell_type": "markdown",
   "id": "631440a5-2008-471e-ac46-34b190c98442",
   "metadata": {
    "slideshow": {
     "slide_type": "slide"
    },
    "tags": []
   },
   "source": [
    "## <font color=red> while loop </font> \n",
    "<code>\n",
    "while condition :\n",
    "    body of while loop\n",
    "</code>"
   ]
  },
  {
   "cell_type": "code",
   "execution_count": 26,
   "id": "b4e2d64f-2fa9-4fe1-9e28-d54b2da5d6ee",
   "metadata": {},
   "outputs": [
    {
     "name": "stdout",
     "output_type": "stream",
     "text": [
      "1\n",
      "2\n",
      "3\n",
      "4\n",
      "5\n",
      "6\n",
      "7\n",
      "8\n",
      "9\n",
      "10\n",
      "Answer : 55\n"
     ]
    }
   ],
   "source": [
    "## Find the sum of the squares of the first ten numbers\n",
    "num = 10\n",
    "s = 0\n",
    "i = 1\n",
    "while i <= num:\n",
    "    print(i)\n",
    "    s = s + i\n",
    "    i = i + 1\n",
    "print(\"Answer :\", s)"
   ]
  },
  {
   "cell_type": "markdown",
   "id": "020f5171-bc93-48f2-b9c4-929b41027ee9",
   "metadata": {
    "slideshow": {
     "slide_type": "slide"
    }
   },
   "source": [
    "## <font color=red> Break </font> \n",
    "Terminate the current loop. Use the break statement to come out of the loop instantly."
   ]
  },
  {
   "cell_type": "code",
   "execution_count": 28,
   "id": "f3abf786-fa5f-49ee-b402-86e6dcc57fda",
   "metadata": {},
   "outputs": [
    {
     "name": "stdout",
     "output_type": "stream",
     "text": [
      "Answer : 55\n"
     ]
    }
   ],
   "source": [
    "## Find the sum of the squares of the first ten numbers\n",
    "num = 10\n",
    "s = 0\n",
    "i = 1\n",
    "while True:\n",
    "    s = s + i\n",
    "    i = i + 1\n",
    "    if i > num:\n",
    "        break\n",
    "print(\"Answer :\", s)"
   ]
  },
  {
   "cell_type": "code",
   "execution_count": 41,
   "id": "dd948b0d-272c-43dd-a7e8-825ff2ae1ead",
   "metadata": {
    "slideshow": {
     "slide_type": "subslide"
    }
   },
   "outputs": [
    {
     "name": "stdout",
     "output_type": "stream",
     "text": [
      "Multiplication table of 1:\n",
      "1 x 1 = 1\n",
      "2 x 1 = 2\n",
      "3 x 1 = 3\n",
      "4 x 1 = 4\n",
      "5 x 1 = 5\n",
      "6 x 1 = 6\n",
      "7 x 1 = 7\n",
      "8 x 1 = 8\n",
      "9 x 1 = 9\n",
      "10 x 1 = 10\n",
      "Multiplication table of 2:\n",
      "1 x 2 = 2\n",
      "2 x 2 = 4\n",
      "3 x 2 = 6\n",
      "4 x 2 = 8\n",
      "5 x 2 = 10\n",
      "6 x 2 = 12\n",
      "7 x 2 = 14\n",
      "8 x 2 = 16\n",
      "9 x 2 = 18\n",
      "10 x 2 = 20\n",
      "Multiplication table of 3:\n",
      "1 x 3 = 3\n",
      "2 x 3 = 6\n",
      "3 x 3 = 9\n",
      "4 x 3 = 12\n",
      "5 x 3 = 15\n",
      "6 x 3 = 18\n",
      "7 x 3 = 21\n",
      "8 x 3 = 24\n",
      "9 x 3 = 27\n",
      "10 x 3 = 30\n",
      "Multiplication table of 4:\n",
      "1 x 4 = 4\n",
      "2 x 4 = 8\n",
      "3 x 4 = 12\n",
      "4 x 4 = 16\n",
      "5 x 4 = 20\n",
      "6 x 4 = 24\n",
      "7 x 4 = 28\n",
      "8 x 4 = 32\n",
      "9 x 4 = 36\n",
      "10 x 4 = 40\n",
      "Multiplication table of 5:\n",
      "1 x 5 = 5\n",
      "2 x 5 = 10\n",
      "3 x 5 = 15\n",
      "4 x 5 = 20\n",
      "5 x 5 = 25\n",
      "6 x 5 = 30\n",
      "7 x 5 = 35\n",
      "8 x 5 = 40\n",
      "9 x 5 = 45\n",
      "10 x 5 = 50\n"
     ]
    }
   ],
   "source": [
    "## Let us do the multiplication table upto 5th table\n",
    "for i in range(1, 11):\n",
    "    print(f'Multiplication table of {i}:')\n",
    "    for j in range(1, 11):\n",
    "        print(f\"{j} x {i} = {i * j}\")\n",
    "    if i >= 5:\n",
    "        break"
   ]
  },
  {
   "cell_type": "markdown",
   "id": "7616f63b-7037-4e8f-81ad-a63c0ef9ccfa",
   "metadata": {},
   "source": [
    "__Exercise:__ Write the same using while loop"
   ]
  },
  {
   "cell_type": "markdown",
   "id": "8f32a085-7a7d-43ca-a8a9-0b9094f35786",
   "metadata": {
    "slideshow": {
     "slide_type": "slide"
    }
   },
   "source": [
    "## <font color=blue>Exercise</font>\n",
    "Write a function to return True if the first and last number of a given list is same. If numbers are different then return False.\n",
    "\n",
    "<code>\n",
    "Given list: [10, 20, 30, 40, 10]\n",
    "result is True\n",
    "\n",
    "numbers_y = [75, 65, 35, 75, 30]\n",
    "result is False\n",
    "</code>"
   ]
  },
  {
   "cell_type": "markdown",
   "id": "93006c93-1563-4642-b11d-a462669ce65c",
   "metadata": {
    "slideshow": {
     "slide_type": "slide"
    }
   },
   "source": [
    "## <font color=blue>Exercise</font>\n",
    "Iterate the given list of numbers and print only those numbers which are divisible by 5.\n",
    "\n",
    "<code>\n",
    "Given list is  [10, 20, 33, 46, 55]\n",
    "Divisible by 5\n",
    "10\n",
    "20\n",
    "55\n",
    "</code>"
   ]
  },
  {
   "cell_type": "markdown",
   "id": "34f9c8a2-6a15-4da7-873b-9d12e39ae976",
   "metadata": {
    "slideshow": {
     "slide_type": "slide"
    }
   },
   "source": [
    "## <font color=blue>Exercise</font>\n",
    "Print the following pattern\n",
    "\n",
    "<code>\n",
    "1 \n",
    "2 2 \n",
    "3 3 3 \n",
    "4 4 4 4 \n",
    "5 5 5 5 5    \n",
    "</code>"
   ]
  },
  {
   "cell_type": "code",
   "execution_count": null,
   "id": "4d20318c-9ff9-4e56-a654-7260551fec93",
   "metadata": {},
   "outputs": [],
   "source": []
  }
 ],
 "metadata": {
  "kernelspec": {
   "display_name": "Python 3",
   "language": "python",
   "name": "python3"
  },
  "language_info": {
   "codemirror_mode": {
    "name": "ipython",
    "version": 3
   },
   "file_extension": ".py",
   "mimetype": "text/x-python",
   "name": "python",
   "nbconvert_exporter": "python",
   "pygments_lexer": "ipython3",
   "version": "3.7.3"
  }
 },
 "nbformat": 4,
 "nbformat_minor": 5
}
